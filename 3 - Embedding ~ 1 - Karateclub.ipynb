{
 "cells": [
  {
   "cell_type": "markdown",
   "id": "e49df19e",
   "metadata": {
    "id": "y-9mbxpK22O5",
    "papermill": {
     "duration": 0.007635,
     "end_time": "2025-06-04T15:51:50.463218",
     "exception": false,
     "start_time": "2025-06-04T15:51:50.455583",
     "status": "completed"
    },
    "tags": []
   },
   "source": [
    "**Karate Club is an unsupervised machine learning extension library for NetworkX. Karate Club consists of state-of-the-art methods to do unsupervised learning on graph structured data. To put it simply it is a Swiss Army knife for small-scale graph mining research. First, it provides network embedding techniques at the node and graph level. Second, it includes a variety of overlapping and non-overlapping community detection methods.**"
   ]
  },
  {
   "cell_type": "markdown",
   "id": "32a22396",
   "metadata": {
    "id": "26f05f65",
    "papermill": {
     "duration": 0.007175,
     "end_time": "2025-06-04T15:51:50.477585",
     "exception": false,
     "start_time": "2025-06-04T15:51:50.470410",
     "status": "completed"
    },
    "tags": []
   },
   "source": [
    "# 0 - Installation & Imports"
   ]
  },
  {
   "cell_type": "code",
   "execution_count": 1,
   "id": "3cf46475",
   "metadata": {
    "execution": {
     "iopub.execute_input": "2025-06-04T15:51:50.493051Z",
     "iopub.status.busy": "2025-06-04T15:51:50.492623Z",
     "iopub.status.idle": "2025-06-04T15:52:30.229667Z",
     "shell.execute_reply": "2025-06-04T15:52:30.228240Z"
    },
    "id": "1s0HdogvH9Yj",
    "outputId": "469946ac-c740-4401-fcfc-b662470277f2",
    "papermill": {
     "duration": 39.747176,
     "end_time": "2025-06-04T15:52:30.231969",
     "exception": false,
     "start_time": "2025-06-04T15:51:50.484793",
     "status": "completed"
    },
    "tags": []
   },
   "outputs": [
    {
     "name": "stdout",
     "output_type": "stream",
     "text": [
      "\u001b[2K     \u001b[90m━━━━━━━━━━━━━━━━━━━━━━━━━━━━━━━━━━━━━━━━\u001b[0m \u001b[32m63.1/63.1 kB\u001b[0m \u001b[31m2.9 MB/s\u001b[0m eta \u001b[36m0:00:00\u001b[0m\r\n",
      "\u001b[2K   \u001b[90m━━━━━━━━━━━━━━━━━━━━━━━━━━━━━━━━━━━━━━━━\u001b[0m \u001b[32m1.1/1.1 MB\u001b[0m \u001b[31m22.7 MB/s\u001b[0m eta \u001b[36m0:00:00\u001b[0m\r\n",
      "\u001b[2K   \u001b[90m━━━━━━━━━━━━━━━━━━━━━━━━━━━━━━━━━━━━━━━━\u001b[0m \u001b[32m78.8/78.8 kB\u001b[0m \u001b[31m2.9 MB/s\u001b[0m eta \u001b[36m0:00:00\u001b[0m\r\n",
      "\u001b[2K     \u001b[90m━━━━━━━━━━━━━━━━━━━━━━━━━━━━━━━━━━━━━━━━\u001b[0m \u001b[32m64.5/64.5 kB\u001b[0m \u001b[31m3.0 MB/s\u001b[0m eta \u001b[36m0:00:00\u001b[0m\r\n",
      "\u001b[?25h  Preparing metadata (setup.py) ... \u001b[?25l\u001b[?25hdone\r\n",
      "\u001b[2K   \u001b[90m━━━━━━━━━━━━━━━━━━━━━━━━━━━━━━━━━━━━━━━━\u001b[0m \u001b[32m1.9/1.9 MB\u001b[0m \u001b[31m45.7 MB/s\u001b[0m eta \u001b[36m0:00:00\u001b[0m\r\n",
      "\u001b[2K   \u001b[90m━━━━━━━━━━━━━━━━━━━━━━━━━━━━━━━━━━━━━━━━\u001b[0m \u001b[32m16.8/16.8 MB\u001b[0m \u001b[31m83.0 MB/s\u001b[0m eta \u001b[36m0:00:00\u001b[0m\r\n",
      "\u001b[2K   \u001b[90m━━━━━━━━━━━━━━━━━━━━━━━━━━━━━━━━━━━━━━━━\u001b[0m \u001b[32m11.5/11.5 MB\u001b[0m \u001b[31m93.6 MB/s\u001b[0m eta \u001b[36m0:00:00\u001b[0m\r\n",
      "\u001b[2K   \u001b[90m━━━━━━━━━━━━━━━━━━━━━━━━━━━━━━━━━━━━━━━━\u001b[0m \u001b[32m1.8/1.8 MB\u001b[0m \u001b[31m46.6 MB/s\u001b[0m eta \u001b[36m0:00:00\u001b[0m\r\n",
      "\u001b[2K   \u001b[90m━━━━━━━━━━━━━━━━━━━━━━━━━━━━━━━━━━━━━━━━\u001b[0m \u001b[32m161.5/161.5 kB\u001b[0m \u001b[31m7.1 MB/s\u001b[0m eta \u001b[36m0:00:00\u001b[0m\r\n",
      "\u001b[2K   \u001b[90m━━━━━━━━━━━━━━━━━━━━━━━━━━━━━━━━━━━━━━━━\u001b[0m \u001b[32m3.1/3.1 MB\u001b[0m \u001b[31m68.0 MB/s\u001b[0m eta \u001b[36m0:00:00\u001b[0m\r\n",
      "\u001b[?25h  Building wheel for karateclub (setup.py) ... \u001b[?25l\u001b[?25hdone\r\n",
      "\u001b[31mERROR: pip's dependency resolver does not currently take into account all the packages that are installed. This behaviour is the source of the following dependency conflicts.\r\n",
      "cartopy 0.24.1 requires numpy>=1.23, but you have numpy 1.22.4 which is incompatible.\r\n",
      "albucore 0.0.19 requires numpy>=1.24.4, but you have numpy 1.22.4 which is incompatible.\r\n",
      "albumentations 1.4.20 requires numpy>=1.24.4, but you have numpy 1.22.4 which is incompatible.\r\n",
      "arviz 0.20.0 requires numpy>=1.23.0, but you have numpy 1.22.4 which is incompatible.\r\n",
      "arviz 0.20.0 requires pandas>=1.5.0, but you have pandas 1.3.5 which is incompatible.\r\n",
      "astropy 6.1.7 requires numpy>=1.23, but you have numpy 1.22.4 which is incompatible.\r\n",
      "bayesian-optimization 2.0.3 requires numpy>=1.25, but you have numpy 1.22.4 which is incompatible.\r\n",
      "bigframes 1.29.0 requires numpy>=1.24.0, but you have numpy 1.22.4 which is incompatible.\r\n",
      "bigframes 1.29.0 requires pandas>=1.5.3, but you have pandas 1.3.5 which is incompatible.\r\n",
      "chex 0.1.88 requires numpy>=1.24.1, but you have numpy 1.22.4 which is incompatible.\r\n",
      "contourpy 1.3.1 requires numpy>=1.23, but you have numpy 1.22.4 which is incompatible.\r\n",
      "cudf-cu12 25.2.0 requires numpy<3.0a0,>=1.23, but you have numpy 1.22.4 which is incompatible.\r\n",
      "cudf-cu12 25.2.0 requires pandas<2.2.4dev0,>=2.0, but you have pandas 1.3.5 which is incompatible.\r\n",
      "cuml-cu12 25.2.0 requires numpy<3.0a0,>=1.23, but you have numpy 1.22.4 which is incompatible.\r\n",
      "cuvs-cu12 25.2.0 requires numpy<3.0a0,>=1.23, but you have numpy 1.22.4 which is incompatible.\r\n",
      "dask-cuda 25.2.0 requires numpy<3.0a0,>=1.23, but you have numpy 1.22.4 which is incompatible.\r\n",
      "dask-cudf-cu12 25.2.0 requires numpy<3.0a0,>=1.23, but you have numpy 1.22.4 which is incompatible.\r\n",
      "dask-cudf-cu12 25.2.0 requires pandas<2.2.4dev0,>=2.0, but you have pandas 1.3.5 which is incompatible.\r\n",
      "dask-expr 1.1.21 requires pandas>=2, but you have pandas 1.3.5 which is incompatible.\r\n",
      "featuretools 1.31.0 requires numpy>=1.25.0, but you have numpy 1.22.4 which is incompatible.\r\n",
      "featuretools 1.31.0 requires pandas>=2.0.0, but you have pandas 1.3.5 which is incompatible.\r\n",
      "geopandas 0.14.4 requires pandas>=1.4.0, but you have pandas 1.3.5 which is incompatible.\r\n",
      "google-colab 1.0.0 requires notebook==6.5.5, but you have notebook 6.5.4 which is incompatible.\r\n",
      "google-colab 1.0.0 requires pandas==2.2.2, but you have pandas 1.3.5 which is incompatible.\r\n",
      "ibis-framework 9.2.0 requires numpy<3,>=1.23.2, but you have numpy 1.22.4 which is incompatible.\r\n",
      "ibis-framework 9.2.0 requires pandas<3,>=1.5.3, but you have pandas 1.3.5 which is incompatible.\r\n",
      "jax 0.4.33 requires numpy>=1.24, but you have numpy 1.22.4 which is incompatible.\r\n",
      "jaxlib 0.4.33 requires numpy>=1.24, but you have numpy 1.22.4 which is incompatible.\r\n",
      "langchain 0.3.12 requires async-timeout<5.0.0,>=4.0.0; python_version < \"3.11\", but you have async-timeout 5.0.1 which is incompatible.\r\n",
      "libpysal 4.9.2 requires pandas>=1.4, but you have pandas 1.3.5 which is incompatible.\r\n",
      "mizani 0.13.1 requires numpy>=1.23.5, but you have numpy 1.22.4 which is incompatible.\r\n",
      "mizani 0.13.1 requires pandas>=2.2.0, but you have pandas 1.3.5 which is incompatible.\r\n",
      "mkl-fft 1.3.8 requires numpy<1.27.0,>=1.26.4, but you have numpy 1.22.4 which is incompatible.\r\n",
      "mkl-random 1.2.4 requires numpy<1.27.0,>=1.26.4, but you have numpy 1.22.4 which is incompatible.\r\n",
      "mkl-umath 0.1.1 requires numpy<1.27.0,>=1.26.4, but you have numpy 1.22.4 which is incompatible.\r\n",
      "mlxtend 0.23.3 requires scikit-learn>=1.3.1, but you have scikit-learn 1.2.2 which is incompatible.\r\n",
      "mne 1.9.0 requires numpy<3,>=1.23, but you have numpy 1.22.4 which is incompatible.\r\n",
      "numexpr 2.10.2 requires numpy>=1.23.0, but you have numpy 1.22.4 which is incompatible.\r\n",
      "nx-cugraph-cu12 24.10.0 requires networkx>=3.0, but you have networkx 2.6.3 which is incompatible.\r\n",
      "nx-cugraph-cu12 24.10.0 requires numpy<3.0a0,>=1.23, but you have numpy 1.22.4 which is incompatible.\r\n",
      "pandas-gbq 0.25.0 requires google-api-core<3.0.0dev,>=2.10.2, but you have google-api-core 1.34.1 which is incompatible.\r\n",
      "pandas-stubs 2.2.2.240909 requires numpy>=1.23.5, but you have numpy 1.22.4 which is incompatible.\r\n",
      "plotnine 0.14.4 requires matplotlib>=3.8.0, but you have matplotlib 3.7.5 which is incompatible.\r\n",
      "plotnine 0.14.4 requires numpy>=1.23.5, but you have numpy 1.22.4 which is incompatible.\r\n",
      "plotnine 0.14.4 requires pandas>=2.2.0, but you have pandas 1.3.5 which is incompatible.\r\n",
      "pyldavis 3.4.1 requires numpy>=1.24.2, but you have numpy 1.22.4 which is incompatible.\r\n",
      "pyldavis 3.4.1 requires pandas>=2.0.0, but you have pandas 1.3.5 which is incompatible.\r\n",
      "pylibraft-cu12 25.2.0 requires numpy<3.0a0,>=1.23, but you have numpy 1.22.4 which is incompatible.\r\n",
      "pymc 5.19.1 requires numpy>=1.25.0, but you have numpy 1.22.4 which is incompatible.\r\n",
      "pywavelets 1.8.0 requires numpy<3,>=1.23, but you have numpy 1.22.4 which is incompatible.\r\n",
      "rmm-cu12 25.2.0 requires numpy<3.0a0,>=1.23, but you have numpy 1.22.4 which is incompatible.\r\n",
      "scikit-image 0.25.0 requires networkx>=3.0, but you have networkx 2.6.3 which is incompatible.\r\n",
      "scikit-image 0.25.0 requires numpy>=1.24, but you have numpy 1.22.4 which is incompatible.\r\n",
      "statsmodels 0.14.4 requires pandas!=2.1.0,>=1.4, but you have pandas 1.3.5 which is incompatible.\r\n",
      "tensorflow 2.17.1 requires numpy<2.0.0,>=1.23.5; python_version <= \"3.11\", but you have numpy 1.22.4 which is incompatible.\r\n",
      "tensorflow-decision-forests 1.10.0 requires tensorflow==2.17.0, but you have tensorflow 2.17.1 which is incompatible.\r\n",
      "ucx-py-cu12 0.42.0 requires numpy<3.0a0,>=1.23, but you have numpy 1.22.4 which is incompatible.\r\n",
      "ucxx-cu12 0.42.0 requires numpy<3.0a0,>=1.23, but you have numpy 1.22.4 which is incompatible.\r\n",
      "visions 0.7.6 requires numpy>=1.23.2, but you have numpy 1.22.4 which is incompatible.\r\n",
      "visions 0.7.6 requires pandas>=2.0.0, but you have pandas 1.3.5 which is incompatible.\r\n",
      "woodwork 0.31.0 requires numpy>=1.25.0, but you have numpy 1.22.4 which is incompatible.\r\n",
      "woodwork 0.31.0 requires pandas>=2.0.0, but you have pandas 1.3.5 which is incompatible.\r\n",
      "xarray 2024.11.0 requires numpy>=1.24, but you have numpy 1.22.4 which is incompatible.\r\n",
      "xarray 2024.11.0 requires pandas>=2.1, but you have pandas 1.3.5 which is incompatible.\r\n",
      "xarray-einstats 0.8.0 requires numpy>=1.23, but you have numpy 1.22.4 which is incompatible.\u001b[0m\u001b[31m\r\n",
      "\u001b[0mCPU times: user 930 ms, sys: 177 ms, total: 1.11 s\n",
      "Wall time: 39.7 s\n"
     ]
    }
   ],
   "source": [
    "%%time\n",
    "!pip install -q torch_geometric\n",
    "!pip install -q ogb\n",
    "!pip install -q karateclub"
   ]
  },
  {
   "cell_type": "code",
   "execution_count": 2,
   "id": "85e0279f",
   "metadata": {
    "execution": {
     "iopub.execute_input": "2025-06-04T15:52:30.254417Z",
     "iopub.status.busy": "2025-06-04T15:52:30.254050Z",
     "iopub.status.idle": "2025-06-04T15:53:19.806443Z",
     "shell.execute_reply": "2025-06-04T15:53:19.805345Z"
    },
    "id": "5be1941a",
    "papermill": {
     "duration": 49.564695,
     "end_time": "2025-06-04T15:53:19.808354",
     "exception": false,
     "start_time": "2025-06-04T15:52:30.243659",
     "status": "completed"
    },
    "tags": []
   },
   "outputs": [],
   "source": [
    "import numpy as np\n",
    "import scipy as sp\n",
    "sp.errstate = np.errstate # Patch scipy to include errstate from numpy\n",
    "from IPython.display import clear_output\n",
    "import os\n",
    "from os import path\n",
    "from pandas import DataFrame\n",
    "from torch import from_numpy,save\n",
    "\n",
    "from ogb.linkproppred.dataset_pyg import PygLinkPropPredDataset\n",
    "\n",
    "from torch import serialization\n",
    "from torch_geometric.data.storage import GlobalStorage\n",
    "from torch_geometric.data.data import DataEdgeAttr, DataTensorAttr\n",
    "serialization.add_safe_globals([GlobalStorage, DataEdgeAttr, DataTensorAttr])\n",
    "\n",
    "import networkx as nx\n",
    "\n",
    "from torch_geometric.nn import Node2Vec\n",
    "import torch_geometric.transforms as T\n",
    "from torch_geometric.utils import to_networkx ,to_networkit,to_trimesh,get_embeddings\n",
    "\n",
    "from karateclub import (\n",
    "    DeepWalk,Node2Vec,SocioDim,Role2Vec,RandNE,GLEE,Diff2Vec,GraphWave,Walklets,NodeSketch,NetMF,BoostNE,GraRep,NMFADMM,LaplacianEigenmaps)\n",
    "\n",
    "from karateclub import NNSED,DANMF,GEMSEC,NEU"
   ]
  },
  {
   "cell_type": "markdown",
   "id": "ab3da641",
   "metadata": {
    "id": "kHAu0ndykCwV",
    "papermill": {
     "duration": 0.007991,
     "end_time": "2025-06-04T15:53:19.825097",
     "exception": false,
     "start_time": "2025-06-04T15:53:19.817106",
     "status": "completed"
    },
    "tags": []
   },
   "source": [
    "# 1 - Data Loading and Preparation"
   ]
  },
  {
   "cell_type": "code",
   "execution_count": 3,
   "id": "e89be07a",
   "metadata": {
    "execution": {
     "iopub.execute_input": "2025-06-04T15:53:19.843060Z",
     "iopub.status.busy": "2025-06-04T15:53:19.842263Z",
     "iopub.status.idle": "2025-06-04T15:53:44.764311Z",
     "shell.execute_reply": "2025-06-04T15:53:44.763187Z"
    },
    "id": "7be17119",
    "papermill": {
     "duration": 24.933075,
     "end_time": "2025-06-04T15:53:44.766276",
     "exception": false,
     "start_time": "2025-06-04T15:53:19.833201",
     "status": "completed"
    },
    "tags": []
   },
   "outputs": [],
   "source": [
    "dataset = PygLinkPropPredDataset(name='ogbl-ddi')\n",
    "clear_output()\n",
    "graph_data = dataset[0]\n",
    "graph = to_networkx(graph_data).to_undirected()"
   ]
  },
  {
   "cell_type": "code",
   "execution_count": 4,
   "id": "705f7939",
   "metadata": {
    "execution": {
     "iopub.execute_input": "2025-06-04T15:53:44.785216Z",
     "iopub.status.busy": "2025-06-04T15:53:44.784839Z",
     "iopub.status.idle": "2025-06-04T15:53:44.789259Z",
     "shell.execute_reply": "2025-06-04T15:53:44.788436Z"
    },
    "id": "5acb5291",
    "papermill": {
     "duration": 0.015265,
     "end_time": "2025-06-04T15:53:44.790681",
     "exception": false,
     "start_time": "2025-06-04T15:53:44.775416",
     "status": "completed"
    },
    "tags": []
   },
   "outputs": [],
   "source": [
    "embedding_save_path = 'KarateClub_Embedding/'\n",
    "if not os.path.exists(embedding_save_path):\n",
    "    os.makedirs(embedding_save_path)"
   ]
  },
  {
   "cell_type": "markdown",
   "id": "a6af38b5",
   "metadata": {
    "id": "pXqScGcm2xqZ",
    "papermill": {
     "duration": 0.008074,
     "end_time": "2025-06-04T15:53:44.807222",
     "exception": false,
     "start_time": "2025-06-04T15:53:44.799148",
     "status": "completed"
    },
    "tags": []
   },
   "source": [
    "---\n",
    "---\n",
    "\n",
    "# 2 - Graph Embedding using **Karate Club**"
   ]
  },
  {
   "cell_type": "markdown",
   "id": "c964af51",
   "metadata": {
    "id": "feb83147",
    "papermill": {
     "duration": 0.007834,
     "end_time": "2025-06-04T15:53:44.823228",
     "exception": false,
     "start_time": "2025-06-04T15:53:44.815394",
     "status": "completed"
    },
    "tags": []
   },
   "source": [
    "## 2.1 - Node2Vec"
   ]
  },
  {
   "cell_type": "code",
   "execution_count": 5,
   "id": "f1d14b7f",
   "metadata": {
    "execution": {
     "iopub.execute_input": "2025-06-04T15:53:44.841050Z",
     "iopub.status.busy": "2025-06-04T15:53:44.840488Z",
     "iopub.status.idle": "2025-06-04T17:16:05.871095Z",
     "shell.execute_reply": "2025-06-04T17:16:05.869787Z"
    },
    "id": "a7ace89d",
    "papermill": {
     "duration": 4941.053407,
     "end_time": "2025-06-04T17:16:05.884885",
     "exception": false,
     "start_time": "2025-06-04T15:53:44.831478",
     "status": "completed"
    },
    "tags": []
   },
   "outputs": [
    {
     "name": "stdout",
     "output_type": "stream",
     "text": [
      "CPU times: user 1h 32min 6s, sys: 6.19 s, total: 1h 32min 12s\n",
      "Wall time: 1h 22min 21s\n"
     ]
    },
    {
     "data": {
      "text/plain": [
       "torch.Size([4267, 100])"
      ]
     },
     "execution_count": 5,
     "metadata": {},
     "output_type": "execute_result"
    }
   ],
   "source": [
    "%%time\n",
    "N2V_model = Node2Vec(dimensions=100, walk_number=700, walk_length=3, epochs=14)\n",
    "N2V_model.fit(graph)\n",
    "N2V_embedding = N2V_model.get_embedding()\n",
    "\n",
    "N2V_embedding_tensor = from_numpy(N2V_embedding)\n",
    "save(N2V_embedding_tensor, path.join(embedding_save_path,'Node2Vec___'+'__'.join([k+'_'+str(v) for k,v in N2V_model.get_params().items() if k!='seed'])+'.pt'))\n",
    "N2V_embedding_tensor.shape"
   ]
  },
  {
   "cell_type": "markdown",
   "id": "b2575b7f",
   "metadata": {
    "id": "44c7a069",
    "papermill": {
     "duration": 0.008572,
     "end_time": "2025-06-04T17:16:05.902365",
     "exception": false,
     "start_time": "2025-06-04T17:16:05.893793",
     "status": "completed"
    },
    "tags": []
   },
   "source": [
    "---\n",
    "## 2.2 - DeepWalk"
   ]
  },
  {
   "cell_type": "code",
   "execution_count": 6,
   "id": "24eb4c4b",
   "metadata": {
    "execution": {
     "iopub.execute_input": "2025-06-04T17:16:05.921443Z",
     "iopub.status.busy": "2025-06-04T17:16:05.921038Z",
     "iopub.status.idle": "2025-06-04T17:32:50.268700Z",
     "shell.execute_reply": "2025-06-04T17:32:50.267617Z"
    },
    "id": "befeb928",
    "outputId": "22ff041c-c6d0-431b-9ca3-0e5037144a9e",
    "papermill": {
     "duration": 1004.366101,
     "end_time": "2025-06-04T17:32:50.277178",
     "exception": false,
     "start_time": "2025-06-04T17:16:05.911077",
     "status": "completed"
    },
    "tags": []
   },
   "outputs": [
    {
     "name": "stdout",
     "output_type": "stream",
     "text": [
      "CPU times: user 38min 29s, sys: 8.73 s, total: 38min 37s\n",
      "Wall time: 16min 44s\n"
     ]
    },
    {
     "data": {
      "text/plain": [
       "torch.Size([4267, 100])"
      ]
     },
     "execution_count": 6,
     "metadata": {},
     "output_type": "execute_result"
    }
   ],
   "source": [
    "%%time\n",
    "DW_model = DeepWalk(dimensions=100  , walk_number=1400,  walk_length=3 , epochs=16 )\n",
    "DW_model.fit(graph)\n",
    "DW_embedding = DW_model.get_embedding()\n",
    "\n",
    "DW_embedding_tensor = from_numpy(DW_embedding)\n",
    "save(DW_embedding_tensor, path.join(embedding_save_path,'DeepWalk___'+'__'.join([k+'_'+str(v) for k,v in DW_model.get_params().items() if k!='seed'])+'.pt'))\n",
    "DW_embedding_tensor.shape"
   ]
  },
  {
   "cell_type": "markdown",
   "id": "32e320c4",
   "metadata": {
    "id": "1309e333",
    "papermill": {
     "duration": 0.007985,
     "end_time": "2025-06-04T17:32:50.293666",
     "exception": false,
     "start_time": "2025-06-04T17:32:50.285681",
     "status": "completed"
    },
    "tags": []
   },
   "source": [
    "---\n",
    "## 2.3 - SocioDim"
   ]
  },
  {
   "cell_type": "code",
   "execution_count": 7,
   "id": "ecef1604",
   "metadata": {
    "execution": {
     "iopub.execute_input": "2025-06-04T17:32:50.311888Z",
     "iopub.status.busy": "2025-06-04T17:32:50.311492Z",
     "iopub.status.idle": "2025-06-04T17:32:57.323815Z",
     "shell.execute_reply": "2025-06-04T17:32:57.322822Z"
    },
    "id": "99bd2526",
    "outputId": "e0ec73e6-de1e-4e57-f89f-9a5f90ba3d3e",
    "papermill": {
     "duration": 7.02345,
     "end_time": "2025-06-04T17:32:57.325502",
     "exception": false,
     "start_time": "2025-06-04T17:32:50.302052",
     "status": "completed"
    },
    "tags": []
   },
   "outputs": [
    {
     "name": "stdout",
     "output_type": "stream",
     "text": [
      "CPU times: user 9.24 s, sys: 235 ms, total: 9.47 s\n",
      "Wall time: 7 s\n"
     ]
    },
    {
     "data": {
      "text/plain": [
       "torch.Size([4267, 100])"
      ]
     },
     "execution_count": 7,
     "metadata": {},
     "output_type": "execute_result"
    }
   ],
   "source": [
    "%%time\n",
    "SD_model = SocioDim(dimensions=100)\n",
    "SD_model.fit(graph)\n",
    "SD_embedding = SD_model.get_embedding()\n",
    "\n",
    "SD_embedding_tensor = from_numpy(SD_embedding)\n",
    "save(SD_embedding_tensor, path.join(embedding_save_path,'SocioDim___'+'__'.join([k+'_'+str(v) for k,v in SD_model.get_params().items() if k!='seed'])+'.pt'))\n",
    "SD_embedding_tensor.shape"
   ]
  },
  {
   "cell_type": "markdown",
   "id": "c6d791da",
   "metadata": {
    "id": "35d8ffec",
    "papermill": {
     "duration": 0.008271,
     "end_time": "2025-06-04T17:32:57.342534",
     "exception": false,
     "start_time": "2025-06-04T17:32:57.334263",
     "status": "completed"
    },
    "tags": []
   },
   "source": [
    "---\n",
    "## 2.4 - RandNE"
   ]
  },
  {
   "cell_type": "code",
   "execution_count": 8,
   "id": "c26dc6fe",
   "metadata": {
    "execution": {
     "iopub.execute_input": "2025-06-04T17:32:57.361402Z",
     "iopub.status.busy": "2025-06-04T17:32:57.361053Z",
     "iopub.status.idle": "2025-06-04T17:33:01.590759Z",
     "shell.execute_reply": "2025-06-04T17:33:01.589549Z"
    },
    "id": "9de4885f",
    "outputId": "7191debc-206c-42d3-fc18-6960d1d9176c",
    "papermill": {
     "duration": 4.241337,
     "end_time": "2025-06-04T17:33:01.592480",
     "exception": false,
     "start_time": "2025-06-04T17:32:57.351143",
     "status": "completed"
    },
    "scrolled": true,
    "tags": []
   },
   "outputs": [
    {
     "name": "stdout",
     "output_type": "stream",
     "text": [
      "CPU times: user 4.2 s, sys: 49 ms, total: 4.25 s\n",
      "Wall time: 4.22 s\n"
     ]
    },
    {
     "data": {
      "text/plain": [
       "torch.Size([4267, 100])"
      ]
     },
     "execution_count": 8,
     "metadata": {},
     "output_type": "execute_result"
    }
   ],
   "source": [
    "%%time\n",
    "RNE_model = RandNE(dimensions=100)\n",
    "RNE_model.fit(graph)\n",
    "RNE_embedding = RNE_model.get_embedding()\n",
    "\n",
    "RNE_embedding_tensor = from_numpy(RNE_embedding)\n",
    "save(RNE_embedding_tensor, path.join(embedding_save_path,'RandNE___'+'__'.join([k+'_'+str(v) for k,v in RNE_model.get_params().items() if k!='seed'])+'.pt'))\n",
    "RNE_embedding_tensor.shape"
   ]
  },
  {
   "cell_type": "markdown",
   "id": "1873e640",
   "metadata": {
    "id": "fca625dd",
    "papermill": {
     "duration": 0.008498,
     "end_time": "2025-06-04T17:33:01.610137",
     "exception": false,
     "start_time": "2025-06-04T17:33:01.601639",
     "status": "completed"
    },
    "tags": []
   },
   "source": [
    "---\n",
    "## 2.5 - GLEE"
   ]
  },
  {
   "cell_type": "code",
   "execution_count": 9,
   "id": "15eabe91",
   "metadata": {
    "execution": {
     "iopub.execute_input": "2025-06-04T17:33:01.628653Z",
     "iopub.status.busy": "2025-06-04T17:33:01.628314Z",
     "iopub.status.idle": "2025-06-04T17:33:10.836834Z",
     "shell.execute_reply": "2025-06-04T17:33:10.835827Z"
    },
    "id": "ad61c1b9",
    "outputId": "8fe14a02-2e96-458b-c983-95c8575f48cd",
    "papermill": {
     "duration": 9.219782,
     "end_time": "2025-06-04T17:33:10.838460",
     "exception": false,
     "start_time": "2025-06-04T17:33:01.618678",
     "status": "completed"
    },
    "tags": []
   },
   "outputs": [
    {
     "name": "stdout",
     "output_type": "stream",
     "text": [
      "CPU times: user 13.9 s, sys: 86 ms, total: 14 s\n",
      "Wall time: 9.2 s\n"
     ]
    },
    {
     "data": {
      "text/plain": [
       "torch.Size([4267, 101])"
      ]
     },
     "execution_count": 9,
     "metadata": {},
     "output_type": "execute_result"
    }
   ],
   "source": [
    "%%time\n",
    "GLEE_model = GLEE(dimensions=100)\n",
    "GLEE_model.fit(graph)\n",
    "GLEE_embedding = GLEE_model.get_embedding()\n",
    "\n",
    "GLEE_embedding_tensor = from_numpy(GLEE_embedding)\n",
    "save(GLEE_embedding_tensor, path.join(embedding_save_path,'GLEE___'+'__'.join([k+'_'+str(v) for k,v in GLEE_model.get_params().items() if k!='seed'])+'.pt'))\n",
    "GLEE_embedding_tensor.shape"
   ]
  },
  {
   "cell_type": "markdown",
   "id": "5adaeac7",
   "metadata": {
    "id": "0c8b244e",
    "papermill": {
     "duration": 0.008872,
     "end_time": "2025-06-04T17:33:10.856372",
     "exception": false,
     "start_time": "2025-06-04T17:33:10.847500",
     "status": "completed"
    },
    "tags": []
   },
   "source": [
    "---\n",
    "## 2.6 - Role2Vec"
   ]
  },
  {
   "cell_type": "code",
   "execution_count": 10,
   "id": "d43bbe19",
   "metadata": {
    "execution": {
     "iopub.execute_input": "2025-06-04T17:33:10.875826Z",
     "iopub.status.busy": "2025-06-04T17:33:10.875406Z",
     "iopub.status.idle": "2025-06-04T17:51:03.241651Z",
     "shell.execute_reply": "2025-06-04T17:51:03.240371Z"
    },
    "id": "147ce499",
    "papermill": {
     "duration": 1072.387126,
     "end_time": "2025-06-04T17:51:03.252572",
     "exception": false,
     "start_time": "2025-06-04T17:33:10.865446",
     "status": "completed"
    },
    "tags": []
   },
   "outputs": [
    {
     "name": "stdout",
     "output_type": "stream",
     "text": [
      "CPU times: user 43min 40s, sys: 13.8 s, total: 43min 53s\n",
      "Wall time: 17min 52s\n"
     ]
    },
    {
     "data": {
      "text/plain": [
       "torch.Size([4267, 100])"
      ]
     },
     "execution_count": 10,
     "metadata": {},
     "output_type": "execute_result"
    }
   ],
   "source": [
    "%%time\n",
    "R2V_model = Role2Vec(dimensions=100 , epochs=24 ,walk_length=3 ,walk_number=1400 )\n",
    "R2V_model.fit(graph)\n",
    "R2V_embedding = R2V_model.get_embedding()\n",
    "\n",
    "R2V_embedding_tensor = from_numpy(R2V_embedding)\n",
    "save(R2V_embedding_tensor, path.join(embedding_save_path,'Role2Vec___'+'__'.join([k+'_'+str(v) for k,v in R2V_model.get_params().items() if k!='seed'])+'.pt'))\n",
    "R2V_embedding_tensor.shape"
   ]
  },
  {
   "cell_type": "markdown",
   "id": "9a578968",
   "metadata": {
    "id": "642746a4",
    "papermill": {
     "duration": 0.008622,
     "end_time": "2025-06-04T17:51:03.270113",
     "exception": false,
     "start_time": "2025-06-04T17:51:03.261491",
     "status": "completed"
    },
    "tags": []
   },
   "source": [
    "---\n",
    "## 2.7 - NetMF"
   ]
  },
  {
   "cell_type": "code",
   "execution_count": 11,
   "id": "2a819ef2",
   "metadata": {
    "execution": {
     "iopub.execute_input": "2025-06-04T17:51:03.289199Z",
     "iopub.status.busy": "2025-06-04T17:51:03.288858Z",
     "iopub.status.idle": "2025-06-04T18:04:38.398534Z",
     "shell.execute_reply": "2025-06-04T18:04:38.397412Z"
    },
    "id": "5e80f329",
    "papermill": {
     "duration": 815.130183,
     "end_time": "2025-06-04T18:04:38.409089",
     "exception": false,
     "start_time": "2025-06-04T17:51:03.278906",
     "status": "completed"
    },
    "tags": []
   },
   "outputs": [
    {
     "name": "stdout",
     "output_type": "stream",
     "text": [
      "CPU times: user 13min 33s, sys: 1.43 s, total: 13min 35s\n",
      "Wall time: 13min 35s\n"
     ]
    },
    {
     "data": {
      "text/plain": [
       "torch.Size([4267, 100])"
      ]
     },
     "execution_count": 11,
     "metadata": {},
     "output_type": "execute_result"
    }
   ],
   "source": [
    "%%time\n",
    "NMF_model = NetMF(dimensions=100 , iteration=700 , negative_samples=1 , order=5 )\n",
    "NMF_model.fit(graph)\n",
    "NMF_embedding = NMF_model.get_embedding()\n",
    "\n",
    "NMF_embedding_tensor = from_numpy(NMF_embedding)\n",
    "save(NMF_embedding_tensor, path.join(embedding_save_path,'NetMF___'+'__'.join([k+'_'+str(v) for k,v in NMF_model.get_params().items() if k!='seed'])+'.pt'))\n",
    "NMF_embedding_tensor.shape"
   ]
  },
  {
   "cell_type": "markdown",
   "id": "82b7fb66",
   "metadata": {
    "id": "0ff7761a",
    "papermill": {
     "duration": 0.008986,
     "end_time": "2025-06-04T18:04:38.427294",
     "exception": false,
     "start_time": "2025-06-04T18:04:38.418308",
     "status": "completed"
    },
    "tags": []
   },
   "source": [
    "---\n",
    "## 2.8 - Diff2Vec"
   ]
  },
  {
   "cell_type": "code",
   "execution_count": 12,
   "id": "1fc9caa1",
   "metadata": {
    "execution": {
     "iopub.execute_input": "2025-06-04T18:04:38.447112Z",
     "iopub.status.busy": "2025-06-04T18:04:38.446773Z",
     "iopub.status.idle": "2025-06-04T18:08:31.845796Z",
     "shell.execute_reply": "2025-06-04T18:08:31.844774Z"
    },
    "id": "b3d86fdc",
    "outputId": "13b05bf6-6948-4b09-c670-40e146446dfd",
    "papermill": {
     "duration": 233.419008,
     "end_time": "2025-06-04T18:08:31.855528",
     "exception": false,
     "start_time": "2025-06-04T18:04:38.436520",
     "status": "completed"
    },
    "tags": []
   },
   "outputs": [
    {
     "name": "stdout",
     "output_type": "stream",
     "text": [
      "CPU times: user 4min 20s, sys: 558 ms, total: 4min 20s\n",
      "Wall time: 3min 53s\n"
     ]
    },
    {
     "data": {
      "text/plain": [
       "torch.Size([4267, 100])"
      ]
     },
     "execution_count": 12,
     "metadata": {},
     "output_type": "execute_result"
    }
   ],
   "source": [
    "%%time\n",
    "D2V_model = Diff2Vec(dimensions=100, diffusion_cover=60 )\n",
    "D2V_model.fit(graph)\n",
    "D2V_embedding = D2V_model.get_embedding()\n",
    "\n",
    "D2V_embedding_tensor = from_numpy(D2V_embedding)\n",
    "save(D2V_embedding_tensor, path.join(embedding_save_path,'Diff2Vec___'+'__'.join([k+'_'+str(v) for k,v in D2V_model.get_params().items() if k!='seed'])+'.pt'))\n",
    "D2V_embedding_tensor.shape"
   ]
  },
  {
   "cell_type": "markdown",
   "id": "c2876c60",
   "metadata": {
    "id": "d0aeb9c7",
    "papermill": {
     "duration": 0.009078,
     "end_time": "2025-06-04T18:08:31.874421",
     "exception": false,
     "start_time": "2025-06-04T18:08:31.865343",
     "status": "completed"
    },
    "tags": []
   },
   "source": [
    "---\n",
    "## 2.9 - Laplacian Eigenmaps"
   ]
  },
  {
   "cell_type": "code",
   "execution_count": 13,
   "id": "f80f3601",
   "metadata": {
    "execution": {
     "iopub.execute_input": "2025-06-04T18:08:31.894927Z",
     "iopub.status.busy": "2025-06-04T18:08:31.894507Z",
     "iopub.status.idle": "2025-06-04T18:08:44.671108Z",
     "shell.execute_reply": "2025-06-04T18:08:44.670181Z"
    },
    "id": "00937531",
    "outputId": "354decbb-4526-40b6-a9c1-8f5c74b53888",
    "papermill": {
     "duration": 12.788571,
     "end_time": "2025-06-04T18:08:44.672681",
     "exception": false,
     "start_time": "2025-06-04T18:08:31.884110",
     "status": "completed"
    },
    "tags": []
   },
   "outputs": [
    {
     "name": "stdout",
     "output_type": "stream",
     "text": [
      "CPU times: user 21.2 s, sys: 127 ms, total: 21.3 s\n",
      "Wall time: 12.8 s\n"
     ]
    },
    {
     "data": {
      "text/plain": [
       "torch.Size([4267, 100])"
      ]
     },
     "execution_count": 13,
     "metadata": {},
     "output_type": "execute_result"
    }
   ],
   "source": [
    "%%time\n",
    "LE_model = LaplacianEigenmaps(dimensions=100  , maximum_number_of_iterations =500000)\n",
    "LE_model.fit(graph)\n",
    "LE_embedding = LE_model.get_embedding()\n",
    "\n",
    "LE_embedding_tensor = from_numpy(LE_embedding)\n",
    "save(LE_embedding_tensor, path.join(embedding_save_path,'LaplacianEigenmaps___'+'__'.join([k+'_'+str(v) for k,v in LE_model.get_params().items() if k!='seed'])+'.pt'))\n",
    "LE_embedding_tensor.shape"
   ]
  },
  {
   "cell_type": "markdown",
   "id": "5e68fac3",
   "metadata": {
    "id": "de0f53f9",
    "papermill": {
     "duration": 0.0091,
     "end_time": "2025-06-04T18:08:44.691375",
     "exception": false,
     "start_time": "2025-06-04T18:08:44.682275",
     "status": "completed"
    },
    "tags": []
   },
   "source": [
    "---\n",
    "## 2.10 - GraRep"
   ]
  },
  {
   "cell_type": "code",
   "execution_count": 14,
   "id": "3efe87c2",
   "metadata": {
    "execution": {
     "iopub.execute_input": "2025-06-04T18:08:44.711475Z",
     "iopub.status.busy": "2025-06-04T18:08:44.711094Z",
     "iopub.status.idle": "2025-06-04T18:22:36.635651Z",
     "shell.execute_reply": "2025-06-04T18:22:36.634461Z"
    },
    "id": "24cb878b",
    "outputId": "5f488774-01bf-4929-d40c-bb315bc522ea",
    "papermill": {
     "duration": 831.945745,
     "end_time": "2025-06-04T18:22:36.646575",
     "exception": false,
     "start_time": "2025-06-04T18:08:44.700830",
     "status": "completed"
    },
    "tags": []
   },
   "outputs": [
    {
     "name": "stdout",
     "output_type": "stream",
     "text": [
      "CPU times: user 13min 50s, sys: 1.76 s, total: 13min 52s\n",
      "Wall time: 13min 51s\n"
     ]
    },
    {
     "data": {
      "text/plain": [
       "torch.Size([4267, 500])"
      ]
     },
     "execution_count": 14,
     "metadata": {},
     "output_type": "execute_result"
    }
   ],
   "source": [
    "%%time\n",
    "GR_model = GraRep(dimensions=100 , iteration=140)\n",
    "GR_model.fit(graph)\n",
    "GR_embedding = GR_model.get_embedding()\n",
    "\n",
    "GR_embedding_tensor = from_numpy(GR_embedding)\n",
    "save(GR_embedding_tensor, path.join(embedding_save_path,'GraRep___'+'__'.join([k+'_'+str(v) for k,v in GR_model.get_params().items() if k!='seed'])+'.pt'))\n",
    "GR_embedding_tensor.shape"
   ]
  },
  {
   "cell_type": "markdown",
   "id": "7bfeafc2",
   "metadata": {
    "id": "ff84194f",
    "papermill": {
     "duration": 0.009479,
     "end_time": "2025-06-04T18:22:36.666167",
     "exception": false,
     "start_time": "2025-06-04T18:22:36.656688",
     "status": "completed"
    },
    "tags": []
   },
   "source": [
    "---\n",
    "## 2.11 - Walklets"
   ]
  },
  {
   "cell_type": "code",
   "execution_count": 15,
   "id": "b7d6695b",
   "metadata": {
    "execution": {
     "iopub.execute_input": "2025-06-04T18:22:36.687157Z",
     "iopub.status.busy": "2025-06-04T18:22:36.686809Z",
     "iopub.status.idle": "2025-06-04T19:04:42.930019Z",
     "shell.execute_reply": "2025-06-04T19:04:42.928882Z"
    },
    "id": "fa07dd25",
    "outputId": "4ab92a9d-b9cd-4980-e7db-e7ff008dba21",
    "papermill": {
     "duration": 2526.267352,
     "end_time": "2025-06-04T19:04:42.943427",
     "exception": false,
     "start_time": "2025-06-04T18:22:36.676075",
     "status": "completed"
    },
    "tags": []
   },
   "outputs": [
    {
     "name": "stdout",
     "output_type": "stream",
     "text": [
      "CPU times: user 1h 18min 25s, sys: 26.9 s, total: 1h 18min 52s\n",
      "Wall time: 42min 6s\n"
     ]
    },
    {
     "data": {
      "text/plain": [
       "torch.Size([4267, 100])"
      ]
     },
     "execution_count": 15,
     "metadata": {},
     "output_type": "execute_result"
    }
   ],
   "source": [
    "%%time\n",
    "Walklets_model = Walklets(dimensions=25, epochs=24 , walk_length=3 , walk_number=1000 )\n",
    "Walklets_model.fit(graph)\n",
    "Walklets_embedding = Walklets_model.get_embedding()\n",
    "\n",
    "Walklets_embedding_tensor = from_numpy(Walklets_embedding)\n",
    "save(Walklets_embedding_tensor, path.join(embedding_save_path,'Walklets___'+'__'.join([k+'_'+str(v) for k,v in Walklets_model.get_params().items() if k!='seed'])+'.pt'))\n",
    "Walklets_embedding_tensor.shape"
   ]
  },
  {
   "cell_type": "markdown",
   "id": "1c8149ff",
   "metadata": {
    "id": "2c166565",
    "papermill": {
     "duration": 0.00942,
     "end_time": "2025-06-04T19:04:42.962757",
     "exception": false,
     "start_time": "2025-06-04T19:04:42.953337",
     "status": "completed"
    },
    "tags": []
   },
   "source": [
    "---\n",
    "## 2.12 - NMFADMM"
   ]
  },
  {
   "cell_type": "code",
   "execution_count": 16,
   "id": "3a1cbd3c",
   "metadata": {
    "execution": {
     "iopub.execute_input": "2025-06-04T19:04:42.983448Z",
     "iopub.status.busy": "2025-06-04T19:04:42.983117Z",
     "iopub.status.idle": "2025-06-04T19:11:09.357120Z",
     "shell.execute_reply": "2025-06-04T19:11:09.355994Z"
    },
    "id": "527ec95b",
    "papermill": {
     "duration": 386.395775,
     "end_time": "2025-06-04T19:11:09.368119",
     "exception": false,
     "start_time": "2025-06-04T19:04:42.972344",
     "status": "completed"
    },
    "scrolled": true,
    "tags": []
   },
   "outputs": [
    {
     "name": "stdout",
     "output_type": "stream",
     "text": [
      "CPU times: user 4min 58s, sys: 2min 8s, total: 7min 6s\n",
      "Wall time: 6min 26s\n"
     ]
    },
    {
     "data": {
      "text/plain": [
       "torch.Size([4267, 200])"
      ]
     },
     "execution_count": 16,
     "metadata": {},
     "output_type": "execute_result"
    }
   ],
   "source": [
    "%%time\n",
    "NMFADMM_model = NMFADMM(dimensions=100)\n",
    "NMFADMM_model.fit(graph)\n",
    "NMFADMM_embedding = NMFADMM_model.get_embedding()\n",
    "\n",
    "NMFADMM_embedding_tensor = from_numpy(NMFADMM_embedding)\n",
    "save(NMFADMM_embedding_tensor, path.join(embedding_save_path,'NMFADMM___'+'__'.join([k+'_'+str(v) for k,v in NMFADMM_model.get_params().items() if k!='seed' and k!='W'])+'.pt'))\n",
    "NMFADMM_embedding_tensor.shape"
   ]
  },
  {
   "cell_type": "markdown",
   "id": "9a8ddb72",
   "metadata": {
    "id": "249c6a05",
    "papermill": {
     "duration": 0.009672,
     "end_time": "2025-06-04T19:11:09.388382",
     "exception": false,
     "start_time": "2025-06-04T19:11:09.378710",
     "status": "completed"
    },
    "tags": []
   },
   "source": [
    "---\n",
    "## 2.13 - NodeSketch"
   ]
  },
  {
   "cell_type": "code",
   "execution_count": 17,
   "id": "75831972",
   "metadata": {
    "execution": {
     "iopub.execute_input": "2025-06-04T19:11:09.409539Z",
     "iopub.status.busy": "2025-06-04T19:11:09.409157Z",
     "iopub.status.idle": "2025-06-04T19:46:52.004224Z",
     "shell.execute_reply": "2025-06-04T19:46:52.002463Z"
    },
    "id": "c071f3d8",
    "outputId": "8869366a-5e92-4ee0-d58d-c6c0b3fca8fc",
    "papermill": {
     "duration": 2142.619835,
     "end_time": "2025-06-04T19:46:52.018181",
     "exception": false,
     "start_time": "2025-06-04T19:11:09.398346",
     "status": "completed"
    },
    "tags": []
   },
   "outputs": [
    {
     "name": "stdout",
     "output_type": "stream",
     "text": [
      "CPU times: user 35min 37s, sys: 5.03 s, total: 35min 42s\n",
      "Wall time: 35min 42s\n"
     ]
    },
    {
     "data": {
      "text/plain": [
       "torch.Size([4267, 100])"
      ]
     },
     "execution_count": 17,
     "metadata": {},
     "output_type": "execute_result"
    }
   ],
   "source": [
    "%%time\n",
    "NS_model = NodeSketch(dimensions=100)\n",
    "NS_model.fit(graph)\n",
    "NS_embedding = NS_model.get_embedding()\n",
    "\n",
    "NS_embedding_tensor = from_numpy(NS_embedding)\n",
    "save(NS_embedding_tensor, path.join(embedding_save_path,'NodeSketch___'+'__'.join([k+'_'+str(v) for k,v in NS_model.get_params().items() if k!='seed'])+'.pt'))\n",
    "NS_embedding_tensor.shape"
   ]
  },
  {
   "cell_type": "markdown",
   "id": "816b2947",
   "metadata": {
    "id": "F7jKz43W345f",
    "papermill": {
     "duration": 0.010461,
     "end_time": "2025-06-04T19:46:52.039751",
     "exception": false,
     "start_time": "2025-06-04T19:46:52.029290",
     "status": "completed"
    },
    "tags": []
   },
   "source": [
    "---\n",
    "## 2.14 - DANMF"
   ]
  },
  {
   "cell_type": "code",
   "execution_count": 18,
   "id": "c2ad1976",
   "metadata": {
    "execution": {
     "iopub.execute_input": "2025-06-04T19:46:52.061789Z",
     "iopub.status.busy": "2025-06-04T19:46:52.061359Z",
     "iopub.status.idle": "2025-06-04T19:53:50.240066Z",
     "shell.execute_reply": "2025-06-04T19:53:50.238937Z"
    },
    "id": "4e237a60",
    "outputId": "aede4348-317c-4394-9d36-6e645cd7d3ca",
    "papermill": {
     "duration": 418.201495,
     "end_time": "2025-06-04T19:53:50.251242",
     "exception": false,
     "start_time": "2025-06-04T19:46:52.049747",
     "status": "completed"
    },
    "tags": []
   },
   "outputs": [
    {
     "name": "stderr",
     "output_type": "stream",
     "text": [
      "/usr/local/lib/python3.10/dist-packages/sklearn/decomposition/_nmf.py:1665: ConvergenceWarning: Maximum number of iterations 200 reached. Increase it to improve convergence.\n",
      "  warnings.warn(\n"
     ]
    },
    {
     "name": "stdout",
     "output_type": "stream",
     "text": [
      "CPU times: user 7min 3s, sys: 12.3 s, total: 7min 15s\n",
      "Wall time: 6min 58s\n"
     ]
    },
    {
     "data": {
      "text/plain": [
       "torch.Size([4267, 48])"
      ]
     },
     "execution_count": 18,
     "metadata": {},
     "output_type": "execute_result"
    }
   ],
   "source": [
    "%%time\n",
    "DANMF_model = DANMF(pre_iterations=200 , iterations=300 , layers=[48,24])\n",
    "DANMF_model.fit(graph)\n",
    "DANMF_embedding = DANMF_model.get_embedding()\n",
    "\n",
    "DANMF_embedding_tensor = from_numpy(DANMF_embedding)\n",
    "save(DANMF_embedding_tensor, path.join(embedding_save_path,'DANMF___'+'__'.join([k+'_'+str(v) for k,v in DANMF_model.get_params().items() if k!='seed'])+'.pt'))\n",
    "DANMF_embedding_tensor.shape"
   ]
  },
  {
   "cell_type": "markdown",
   "id": "1916e707",
   "metadata": {
    "papermill": {
     "duration": 0.009876,
     "end_time": "2025-06-04T19:53:50.271340",
     "exception": false,
     "start_time": "2025-06-04T19:53:50.261464",
     "status": "completed"
    },
    "tags": []
   },
   "source": [
    "---\n",
    "## 2.15 - NEU"
   ]
  },
  {
   "cell_type": "code",
   "execution_count": 19,
   "id": "28c4e794",
   "metadata": {
    "execution": {
     "iopub.execute_input": "2025-06-04T19:53:50.293116Z",
     "iopub.status.busy": "2025-06-04T19:53:50.292709Z",
     "iopub.status.idle": "2025-06-04T19:54:09.929959Z",
     "shell.execute_reply": "2025-06-04T19:54:09.928961Z"
    },
    "papermill": {
     "duration": 19.650171,
     "end_time": "2025-06-04T19:54:09.931595",
     "exception": false,
     "start_time": "2025-06-04T19:53:50.281424",
     "status": "completed"
    },
    "tags": []
   },
   "outputs": [
    {
     "name": "stdout",
     "output_type": "stream",
     "text": [
      "CPU times: user 21.7 s, sys: 357 ms, total: 22.1 s\n",
      "Wall time: 19.6 s\n"
     ]
    },
    {
     "data": {
      "text/plain": [
       "torch.Size([4267, 100])"
      ]
     },
     "execution_count": 19,
     "metadata": {},
     "output_type": "execute_result"
    }
   ],
   "source": [
    "%%time\n",
    "NEU_model = NEU(T=25)\n",
    "NEU_model.fit(graph , SocioDim(dimensions=100) )\n",
    "NEU_embedding = NEU_model.get_embedding()\n",
    "NEU_embedding_tensor = from_numpy(NEU_embedding);\n",
    "save(NEU_embedding_tensor, path.join(embedding_save_path,'NEU___'+'__'.join([k+'_'+str(v) for k,v in NEU_model.get_params().items() if k!='seed'])+'.pt'))\n",
    "NEU_embedding_tensor.shape"
   ]
  },
  {
   "cell_type": "markdown",
   "id": "056864d9",
   "metadata": {
    "id": "782d3dbd",
    "papermill": {
     "duration": 0.010878,
     "end_time": "2025-06-04T19:54:10.050219",
     "exception": false,
     "start_time": "2025-06-04T19:54:10.039341",
     "status": "completed"
    },
    "tags": []
   },
   "source": [
    "---\n",
    "## 2.16 - GraphWave\n",
    "*Too long to execute!*"
   ]
  },
  {
   "cell_type": "code",
   "execution_count": 20,
   "id": "6f234421",
   "metadata": {
    "execution": {
     "iopub.execute_input": "2025-06-04T19:54:10.073067Z",
     "iopub.status.busy": "2025-06-04T19:54:10.072667Z",
     "iopub.status.idle": "2025-06-04T19:54:10.076510Z",
     "shell.execute_reply": "2025-06-04T19:54:10.075515Z"
    },
    "id": "5502f0f9",
    "papermill": {
     "duration": 0.016924,
     "end_time": "2025-06-04T19:54:10.078207",
     "exception": false,
     "start_time": "2025-06-04T19:54:10.061283",
     "status": "completed"
    },
    "tags": []
   },
   "outputs": [],
   "source": [
    "# %%time\n",
    "# GW_model = GraphWave(sample_number=32)\n",
    "# GW_model.fit(graph)\n",
    "# GW_embedding = GW_model.get_embedding()\n",
    "\n",
    "# GW_embedding_tensor = from_numpy(GW_embedding)\n",
    "# save(GW_embedding_tensor, path.join(embedding_save_path,'GraphWave___'+'__'.join([k+'_'+str(v) for k,v in GW_model.get_params().items() if k!='seed'])+'.pt'))\n",
    "# GW_embedding_tensor.shape"
   ]
  }
 ],
 "metadata": {
  "colab": {
   "provenance": []
  },
  "kaggle": {
   "accelerator": "none",
   "dataSources": [],
   "dockerImageVersionId": 30918,
   "isGpuEnabled": false,
   "isInternetEnabled": true,
   "language": "python",
   "sourceType": "notebook"
  },
  "kernelspec": {
   "display_name": "Python 3",
   "language": "python",
   "name": "python3"
  },
  "language_info": {
   "codemirror_mode": {
    "name": "ipython",
    "version": 3
   },
   "file_extension": ".py",
   "mimetype": "text/x-python",
   "name": "python",
   "nbconvert_exporter": "python",
   "pygments_lexer": "ipython3",
   "version": "3.10.12"
  },
  "papermill": {
   "default_parameters": {},
   "duration": 14546.848139,
   "end_time": "2025-06-04T19:54:13.470457",
   "environment_variables": {},
   "exception": null,
   "input_path": "__notebook__.ipynb",
   "output_path": "__notebook__.ipynb",
   "parameters": {},
   "start_time": "2025-06-04T15:51:46.622318",
   "version": "2.6.0"
  }
 },
 "nbformat": 4,
 "nbformat_minor": 5
}
